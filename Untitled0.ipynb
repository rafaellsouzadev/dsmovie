{
  "nbformat": 4,
  "nbformat_minor": 0,
  "metadata": {
    "colab": {
      "name": "Untitled0.ipynb",
      "provenance": [],
      "authorship_tag": "ABX9TyMEPIANLJj6ApqsDKOmK7ym",
      "include_colab_link": true
    },
    "kernelspec": {
      "name": "python3",
      "display_name": "Python 3"
    },
    "language_info": {
      "name": "python"
    }
  },
  "cells": [
    {
      "cell_type": "markdown",
      "metadata": {
        "id": "view-in-github",
        "colab_type": "text"
      },
      "source": [
        "<a href=\"https://colab.research.google.com/github/rafaellsouzadev/dsmovie/blob/main/Untitled0.ipynb\" target=\"_parent\"><img src=\"https://colab.research.google.com/assets/colab-badge.svg\" alt=\"Open In Colab\"/></a>"
      ]
    },
    {
      "cell_type": "code",
      "execution_count": 10,
      "metadata": {
        "colab": {
          "base_uri": "https://localhost:8080/"
        },
        "id": "HBT06_huqX48",
        "outputId": "6de3e341-883a-481f-eb11-b5b9f2bb4167"
      },
      "outputs": [
        {
          "output_type": "stream",
          "name": "stdout",
          "text": [
            "ativado\n"
          ]
        },
        {
          "output_type": "execute_result",
          "data": {
            "text/plain": [
              "1"
            ]
          },
          "metadata": {},
          "execution_count": 10
        }
      ],
      "source": [
        "import numpy as np\n",
        "\n",
        "entrada = np.array([1, 7, 8])\n",
        "peso = np.array([0.8, 0.1, 0])\n",
        "\n",
        "def soma(e, p):\n",
        "  s = e.dot(p)\n",
        "  return s\n",
        "\n",
        "def stepFunction(soma):\n",
        "  if(soma >= 1):\n",
        "    print(\"ativado\")\n",
        "    return 1\n",
        "  print(\"Não Ativado\")\n",
        "  return 0\n",
        "\n",
        "stepFunction(soma(entrada, peso))"
      ]
    },
    {
      "cell_type": "code",
      "source": [
        "import numpy as np\n",
        "\n",
        "entradas = np.array([[0,0] , [1,0], [1,1]])\n",
        "saidas = np.array([0,0,0,1])\n",
        "pesos = np.array([0.0, 0.0])\n",
        "taxaAprendizagem = 0.1\n",
        "\n",
        "\n",
        "def stepFunction(soma):\n",
        "  if(soma >= 1):\n",
        "    return 1\n",
        "  return 0\n",
        "\n",
        "def soma(registro):\n",
        "  s = registro.dot(pesos)\n",
        "  return stepFunction(s)\n"
      ],
      "metadata": {
        "id": "amu-HnLcznY4"
      },
      "execution_count": null,
      "outputs": []
    }
  ]
}